{
 "cells": [
  {
   "cell_type": "markdown",
   "metadata": {},
   "source": [
    "# Jupyter Best Practices"
   ]
  },
  {
   "cell_type": "markdown",
   "metadata": {},
   "source": [
    "- Run your Jupyter cells in order, unless absolutely necessary. \n",
    "- If you change a variable, be sure to change it __everywhere__. \n",
    "- If you change a cell further up in your code, run every line afterwards. \n",
    "- If you send notebooks to other people, then ensure that from the menu you click: \"Kernel\" -> \"Restart Kernel and Run All Cells...\". If you get an error then debug it before you send the code to people. \n",
    "\n",
    "    "
   ]
  },
  {
   "cell_type": "markdown",
   "metadata": {},
   "source": [
    "## Structuring Notebooks"
   ]
  },
  {
   "cell_type": "markdown",
   "metadata": {},
   "source": [
    "There are two kinds of notebooks to store in a data science project: the lab notebook and the deliverable notebook. First, there is the organizational approach to each notebook.\n",
    "### Lab (or dev) notebooks:\n",
    "\n",
    "Let a traditional paper laboratory notebook be your guide here:\n",
    "\n",
    "* Each notebook keeps a historical (and dated) record of the analysis as it’s being explored.\n",
    "* The notebook is not meant to be anything other than a place for experimentation and development.\n",
    "* Each notebook is controlled by a single author: a data scientist on the team (marked with initials).\n",
    "* Notebooks can be split when they get too long (think turn the page).\n",
    "* Notebooks can be split by topic, if it makes sense.\n",
    "\n",
    "### Deliverable (or report) notebooks\n",
    "\n",
    "* They are the fully polished versions of the lab notebooks.\n",
    "* They store the final outputs of analysis.\n",
    "* Notebooks are controlled by the whole data science team, rather than by any one individual."
   ]
  },
  {
   "cell_type": "markdown",
   "metadata": {},
   "source": [
    "# Magic commands\n"
   ]
  },
  {
   "cell_type": "markdown",
   "metadata": {},
   "source": [
    "```%cd```\t  - Changes directory to a new storage location. You can also use this command to move through the directory history or to change directories to a bookmark.\n",
    "\n",
    "```%cls```\t - Clears the screen.\n",
    "\n",
    "```%dhist```       - Displays a list of directories visited during the current session.\n",
    "\n",
    "```%install_ext``` - Installs the specified extension.\n",
    "\n",
    "```%load```\t      - Loads application code from another source, such as an online example.\n",
    "\n",
    "```%lsmagic```\t - Displays a list of the currently available magic functions.\n",
    "\n",
    "```%timeit```\t- Calculates the best performance time for an instruction.\n",
    "\n",
    "```%%timeit```\t- Calculates the best time performance for all the instructions in a cell, apart from the one placed on the same cell line as the cell magic (which could therefore be an initialization instruction).\n",
    "\n",
    "```%%writefile``` - Writes the contents of a cell to the specified file.\n",
    "\n",
    "```%who_``` - display variable defined in the namespace\n"
   ]
  },
  {
   "cell_type": "markdown",
   "metadata": {},
   "source": [
    "For a full list see [here](https://ipython.readthedocs.io/en/stable/interactive/magics.html). "
   ]
  },
  {
   "cell_type": "markdown",
   "metadata": {},
   "source": [
    "# Executing Shell Commands\n"
   ]
  },
  {
   "cell_type": "markdown",
   "metadata": {},
   "source": [
    "To run a unix command from the cell, just precede your command with ```!``` mark. for example:\n",
    "\n",
    "```!python --version``` see your python version\n",
    "\n",
    "```!python myfile.py``` run myfile.py and output results in the current cell, just like %run "
   ]
  },
  {
   "cell_type": "markdown",
   "metadata": {},
   "source": [
    "# Embedding URLs, PDFs, and Youtube Videos"
   ]
  },
  {
   "cell_type": "markdown",
   "metadata": {},
   "source": [
    "## URLs\n"
   ]
  },
  {
   "cell_type": "code",
   "execution_count": 7,
   "metadata": {
    "collapsed": true,
    "jupyter": {
     "outputs_hidden": true
    }
   },
   "outputs": [
    {
     "data": {
      "text/html": [
       "\n",
       "        <iframe\n",
       "            width=\"800\"\n",
       "            height=\"450\"\n",
       "            src=\"https://en.wikipedia.org/wiki/HTTPS\"\n",
       "            frameborder=\"0\"\n",
       "            allowfullscreen\n",
       "        ></iframe>\n",
       "        "
      ],
      "text/plain": [
       "<IPython.lib.display.IFrame at 0x7f6948f4cb10>"
      ]
     },
     "execution_count": 7,
     "metadata": {},
     "output_type": "execute_result"
    }
   ],
   "source": [
    "#Note that http urls will not be displayed. Only https are allowed inside the Iframe\n",
    "from IPython.display import IFrame\n",
    "IFrame('https://en.wikipedia.org/wiki/HTTPS', width=800, height=450)"
   ]
  },
  {
   "cell_type": "markdown",
   "metadata": {},
   "source": [
    "## PDFs"
   ]
  },
  {
   "cell_type": "code",
   "execution_count": 2,
   "metadata": {
    "collapsed": true,
    "jupyter": {
     "outputs_hidden": true
    }
   },
   "outputs": [
    {
     "data": {
      "text/html": [
       "\n",
       "        <iframe\n",
       "            width=\"800\"\n",
       "            height=\"450\"\n",
       "            src=\"https://arxiv.org/pdf/1406.2661.pdf\"\n",
       "            frameborder=\"0\"\n",
       "            allowfullscreen\n",
       "        ></iframe>\n",
       "        "
      ],
      "text/plain": [
       "<IPython.lib.display.IFrame at 0x7f096c5d2f10>"
      ]
     },
     "execution_count": 2,
     "metadata": {},
     "output_type": "execute_result"
    }
   ],
   "source": [
    "from IPython.display import IFrame\n",
    "IFrame('https://arxiv.org/pdf/1406.2661.pdf', width=800, height=450)"
   ]
  },
  {
   "cell_type": "code",
   "execution_count": 5,
   "metadata": {
    "collapsed": true,
    "jupyter": {
     "outputs_hidden": true
    }
   },
   "outputs": [
    {
     "data": {
      "image/jpeg": "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\n",
      "text/html": [
       "\n",
       "        <iframe\n",
       "            width=\"800\"\n",
       "            height=\"300\"\n",
       "            src=\"https://www.youtube.com/embed/mJeNghZXtMo\"\n",
       "            frameborder=\"0\"\n",
       "            allowfullscreen\n",
       "        ></iframe>\n",
       "        "
      ],
      "text/plain": [
       "<IPython.lib.display.YouTubeVideo at 0x7f297e3b5510>"
      ]
     },
     "execution_count": 5,
     "metadata": {},
     "output_type": "execute_result"
    }
   ],
   "source": [
    "from IPython.display import YouTubeVideo\n",
    "YouTubeVideo('mJeNghZXtMo', width=800, height=300)"
   ]
  },
  {
   "cell_type": "markdown",
   "metadata": {},
   "source": [
    "## Code completion\n"
   ]
  },
  {
   "cell_type": "code",
   "execution_count": 1,
   "metadata": {},
   "outputs": [],
   "source": [
    "import seaborn as sns\n",
    "import pandas as pd \n",
    "import numpy as np"
   ]
  },
  {
   "cell_type": "markdown",
   "metadata": {},
   "source": [
    "# Snippets"
   ]
  },
  {
   "cell_type": "code",
   "execution_count": 2,
   "metadata": {},
   "outputs": [
    {
     "name": "stdout",
     "output_type": "stream",
     "text": [
      "The Zen of Python, by Tim Peters\n",
      "\n",
      "Beautiful is better than ugly.\n",
      "Explicit is better than implicit.\n",
      "Simple is better than complex.\n",
      "Complex is better than complicated.\n",
      "Flat is better than nested.\n",
      "Sparse is better than dense.\n",
      "Readability counts.\n",
      "Special cases aren't special enough to break the rules.\n",
      "Although practicality beats purity.\n",
      "Errors should never pass silently.\n",
      "Unless explicitly silenced.\n",
      "In the face of ambiguity, refuse the temptation to guess.\n",
      "There should be one-- and preferably only one --obvious way to do it.\n",
      "Although that way may not be obvious at first unless you're Dutch.\n",
      "Now is better than never.\n",
      "Although never is often better than *right* now.\n",
      "If the implementation is hard to explain, it's a bad idea.\n",
      "If the implementation is easy to explain, it may be a good idea.\n",
      "Namespaces are one honking great idea -- let's do more of those!\n"
     ]
    }
   ],
   "source": [
    "# This is an example snippet!\n",
    "# To create your own, add a new snippet block to the\n",
    "# snippets.json file in your jupyter nbextensions directory:\n",
    "# /nbextensions/snippets/snippets.json\n",
    "import this"
   ]
  },
  {
   "cell_type": "code",
   "execution_count": 3,
   "metadata": {},
   "outputs": [],
   "source": [
    "from __future__ import print_function, division\n",
    "import numpy as n\n",
    "import matplotlib as mpl\n",
    "import seaborn as sns\n",
    "import matplotlib.pyplot as plt\n",
    "%matplotlib inline"
   ]
  },
  {
   "cell_type": "code",
   "execution_count": 3,
   "metadata": {},
   "outputs": [
    {
     "data": {
      "text/latex": [
       "$5.9721679 \\times 10^{24} \\; \\mathrm{kg}$"
      ],
      "text/plain": [
       "<<class 'astropy.constants.iau2015.IAU2015'> name='Earth mass' value=5.972167867791379e+24 uncertainty=1.3422009501651213e+20 unit='kg' reference='IAU 2015 Resolution B 3 + CODATA 2018'>"
      ]
     },
     "execution_count": 3,
     "metadata": {},
     "output_type": "execute_result"
    }
   ],
   "source": [
    "import astropy.constants\n",
    "astropy.constants.M_earth"
   ]
  },
  {
   "cell_type": "markdown",
   "metadata": {},
   "source": [
    "# Qgrid (DataFrame Scrolling)\n"
   ]
  },
  {
   "cell_type": "code",
   "execution_count": 4,
   "metadata": {
    "scrolled": true
   },
   "outputs": [],
   "source": [
    "import qgrid\n",
    "\n",
    "data = sns.load_dataset('iris')"
   ]
  },
  {
   "cell_type": "code",
   "execution_count": 5,
   "metadata": {},
   "outputs": [
    {
     "data": {
      "application/vnd.jupyter.widget-view+json": {
       "model_id": "c070c1b488e3458f972e022f76c93137",
       "version_major": 2,
       "version_minor": 0
      },
      "text/plain": [
       "QgridWidget(grid_options={'fullWidthRows': True, 'syncColumnCellResize': True, 'forceFitColumns': True, 'defau…"
      ]
     },
     "metadata": {},
     "output_type": "display_data"
    }
   ],
   "source": [
    "import pandas as pd\n",
    "import numpy as np\n",
    "\n",
    "qgrid.show_grid(data)"
   ]
  },
  {
   "cell_type": "markdown",
   "metadata": {},
   "source": [
    "# Jupyter (Notebook) themes"
   ]
  },
  {
   "cell_type": "code",
   "execution_count": 9,
   "metadata": {},
   "outputs": [
    {
     "name": "stdout",
     "output_type": "stream",
     "text": [
      "Available Themes: \n",
      "   chesterish\n",
      "   grade3\n",
      "   gruvboxd\n",
      "   gruvboxl\n",
      "   monokai\n",
      "   oceans16\n",
      "   onedork\n",
      "   solarizedd\n",
      "   solarizedl\n"
     ]
    }
   ],
   "source": [
    "# selecting a particular theme\n",
    "\n",
    "!jt -l"
   ]
  },
  {
   "cell_type": "code",
   "execution_count": 8,
   "metadata": {},
   "outputs": [],
   "source": [
    "# selecting a particular theme\n",
    "!jt -t monokai"
   ]
  },
  {
   "cell_type": "code",
   "execution_count": 10,
   "metadata": {},
   "outputs": [
    {
     "name": "stdout",
     "output_type": "stream",
     "text": [
      "Reset css and font defaults in:\n",
      "/home/username/.jupyter/custom &\n",
      "/home/username/.local/share/jupyter/nbextensions\n"
     ]
    }
   ],
   "source": [
    "# reverting to original Theme\n",
    "!jt -r"
   ]
  }
 ],
 "metadata": {
  "kernelspec": {
   "display_name": "Python 3",
   "language": "python",
   "name": "python3"
  },
  "language_info": {
   "codemirror_mode": {
    "name": "ipython",
    "version": 3
   },
   "file_extension": ".py",
   "mimetype": "text/x-python",
   "name": "python",
   "nbconvert_exporter": "python",
   "pygments_lexer": "ipython3",
   "version": "3.7.7"
  },
  "toc": {
   "base_numbering": 1,
   "nav_menu": {},
   "number_sections": true,
   "sideBar": true,
   "skip_h1_title": false,
   "title_cell": "Table of Contents",
   "title_sidebar": "Contents",
   "toc_cell": false,
   "toc_position": {},
   "toc_section_display": true,
   "toc_window_display": true
  },
  "toc-autonumbering": false,
  "toc-showcode": false,
  "toc-showmarkdowntxt": true,
  "toc-showtags": false,
  "varInspector": {
   "cols": {
    "lenName": 16,
    "lenType": 16,
    "lenVar": 40
   },
   "kernels_config": {
    "python": {
     "delete_cmd_postfix": "",
     "delete_cmd_prefix": "del ",
     "library": "var_list.py",
     "varRefreshCmd": "print(var_dic_list())"
    },
    "r": {
     "delete_cmd_postfix": ") ",
     "delete_cmd_prefix": "rm(",
     "library": "var_list.r",
     "varRefreshCmd": "cat(var_dic_list()) "
    }
   },
   "types_to_exclude": [
    "module",
    "function",
    "builtin_function_or_method",
    "instance",
    "_Feature"
   ],
   "window_display": false
  }
 },
 "nbformat": 4,
 "nbformat_minor": 4
}
